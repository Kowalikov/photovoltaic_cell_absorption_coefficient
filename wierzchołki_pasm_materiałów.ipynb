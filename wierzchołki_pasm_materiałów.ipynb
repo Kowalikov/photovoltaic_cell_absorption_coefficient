{
 "cells": [
  {
   "cell_type": "markdown",
   "metadata": {},
   "source": [
    "# Wyznaczanie wierzchołków pasm materiałów na podłożu GaSb:"
   ]
  },
  {
   "cell_type": "markdown",
   "metadata": {},
   "source": [
    "Materiał: GaAlSb  \n",
    "Podłoże: GaSb"
   ]
  },
  {
   "cell_type": "markdown",
   "metadata": {},
   "source": [
    "### Load material:"
   ]
  },
  {
   "cell_type": "code",
   "execution_count": 32,
   "metadata": {},
   "outputs": [],
   "source": [
    "#material = 'GaAlGeSb'\n",
    "material = 'GaAlSb'\n",
    "ground_material = 'GaSb'"
   ]
  },
  {
   "cell_type": "code",
   "execution_count": 97,
   "metadata": {},
   "outputs": [
    {
     "name": "stdout",
     "output_type": "stream",
     "text": [
      "Components:  ['Ga', 'Al', 'Sb']\n"
     ]
    }
   ],
   "source": [
    "import re\n",
    "\n",
    "component_names = re.findall('[A-Z][^A-Z]*', material) \n",
    "print(\"Components: \", component_names)"
   ]
  },
  {
   "cell_type": "code",
   "execution_count": 72,
   "metadata": {},
   "outputs": [
    {
     "name": "stdout",
     "output_type": "stream",
     "text": [
      "Components:  ['Ga', 'Al', 'Sb']\n",
      "Material type: IIIA_VA\n",
      "Material type extensive: IIIA_2_VA_1\n"
     ]
    }
   ],
   "source": [
    "import re\n",
    "from mendeleev import element\n",
    "from collections import Counter\n",
    "\n",
    "def material_type_checker(material):\n",
    "    component_names = re.findall('[A-Z][^A-Z]*', material) \n",
    "    \n",
    "    components = [element(c_name) for c_name in component_names]\n",
    "\n",
    "    group_counter = Counter([c.group.symbol for c in components])\n",
    "    \n",
    "    material_type_extensive = [f'{group}_{numbers}' for group, numbers in zip(group_counter.keys(), group_counter.values())]\n",
    "    material_type_extensive = \"_\".join(material_type_extensive)\n",
    "\n",
    "    material_type = list(group_counter.keys())\n",
    "    material_type = \"_\".join(material_type)\n",
    "    \n",
    "    return material_type, material_type_extensive\n",
    "\n",
    "material_type, material_type_extensive = material_type_checker(material)\n",
    "\n",
    "print(\"Material type:\", material_type)\n",
    "print(\"Material type extensive:\", material_type_extensive)"
   ]
  },
  {
   "cell_type": "code",
   "execution_count": 86,
   "metadata": {},
   "outputs": [
    {
     "data": {
      "text/plain": [
       "['GaSb', 'AlSb']"
      ]
     },
     "execution_count": 86,
     "metadata": {},
     "output_type": "execute_result"
    }
   ],
   "source": [
    "from src.utils import roman_to_int\n",
    "\n",
    "def two_componens_decomposition(material):\n",
    "    component_names = re.findall('[A-Z][^A-Z]*', material) \n",
    "\n",
    "    components = [element(c_name) for c_name in component_names]\n",
    "    group_symbols = [c.group.symbol for c in components]\n",
    "    group_ids = [c.group_id for c in components]\n",
    "\n",
    "    group_counter = Counter(group_ids)\n",
    "    # go through all groups counter if there is more than 1 component from the same group. \n",
    "    # That mean we have mixture of a two components in semiconductor\n",
    "    for group, n in group_counter.items():\n",
    "        if n>1:\n",
    "            # if there is, we need to collect all components from same group\n",
    "            base_compounds = []\n",
    "            for (comp, comp_group) in zip(component_names, group_ids):\n",
    "                if comp_group==group:\n",
    "                    base_compounds.append(comp)\n",
    "            \n",
    "            # then we need to assign to them rest of the elements from other groups\n",
    "            two_components = []\n",
    "            for (comp, comp_group) in zip(component_names, group_ids):\n",
    "                if comp_group!=group:\n",
    "                    for base in base_compounds:\n",
    "                        # if the base element is from earlier group we need to assign it first in the name:\n",
    "                        if group<=comp_group:\n",
    "                            two_components.append(base+comp)\n",
    "                        # if otherwise, we need to assign it at the end:\n",
    "                        if group>comp_group:\n",
    "                            two_components.append(comp+base)\n",
    "    \n",
    "    return two_components\n",
    "            \n",
    "    \n",
    "two_components = two_componens_decomposition(material)\n",
    "two_components"
   ]
  },
  {
   "cell_type": "markdown",
   "metadata": {},
   "source": [
    "## Energy band characteristics:"
   ]
  },
  {
   "cell_type": "markdown",
   "metadata": {},
   "source": [
    "### Band gaps in temperature of `300K` from mole fraction:"
   ]
  },
  {
   "cell_type": "markdown",
   "metadata": {},
   "source": [
    "Read band gaps in `T=300K`:"
   ]
  },
  {
   "cell_type": "code",
   "execution_count": 85,
   "metadata": {},
   "outputs": [
    {
     "data": {
      "text/plain": [
       "[0.68, 1.58]"
      ]
     },
     "execution_count": 85,
     "metadata": {},
     "output_type": "execute_result"
    }
   ],
   "source": [
    "import os\n",
    "\n",
    "\n",
    "def param_reader(components, params_file_path, param):\n",
    "    read_params = []\n",
    "    for c in components:\n",
    "        with open(os.path.join(params_file_path, c+\".txt\")) as f:\n",
    "            lines = f.readlines()\n",
    "            for line in lines:\n",
    "                if line.split(\"=\")[0]==param:\n",
    "                    read_param_str = line.split(\"=\")[1].split(\" \")[0]\n",
    "                    read_param_float = float(read_param_str)\n",
    "                    read_params.append(read_param_float)\n",
    "\n",
    "    return read_params\n",
    "\n",
    "params_file_path = os.path.join(\".\", \"materials\")\n",
    "param ='Eg_300K'\n",
    "band_gaps = param_reader(two_components, params_file_path, param)\n",
    "band_gaps"
   ]
  },
  {
   "cell_type": "markdown",
   "metadata": {},
   "source": [
    "Import simulation method:"
   ]
  },
  {
   "cell_type": "code",
   "execution_count": 87,
   "metadata": {},
   "outputs": [],
   "source": [
    "import importlib\n",
    "\n",
    "try:\n",
    "    libname = \".\".join([\"src\", \"simulations\", material_type])\n",
    "    simulation = importlib.import_module(libname)\n",
    "    simulation = importlib.reload(simulation)\n",
    "except ImportError:\n",
    "    simulation = None\n",
    "    print(f'Simulation method for \\'{material_type}\\' not implemented.')\n",
    "else:\n",
    "    globals()[libname] = simulation"
   ]
  },
  {
   "cell_type": "code",
   "execution_count": 116,
   "metadata": {},
   "outputs": [
    {
     "data": {
      "image/png": "[encoded data removed]",
      "text/plain": [
       "<Figure size 800x550 with 1 Axes>"
      ]
     },
     "metadata": {},
     "output_type": "display_data"
    }
   ],
   "source": [
    "import matplotlib.pyplot as plt\n",
    "\n",
    "x, Eg_x = simulation.band_gap_from_mole_fraction(band_gaps, material_type_extensive, method=\"VCA\", points=11)\n",
    "\n",
    "with plt.style.context(\"seaborn\"):\n",
    "    plt.plot(x, Eg_x, '-', label='Eg(T=300K) - band gap')\n",
    "    plt.title(r'Energy band characteristics from mole fraction in ${}_x{}_{a}{}$:'.format(*component_names, a=\"1-x\"))\n",
    "    plt.ylabel(\"Energy [eV]\")\n",
    "    plt.xlabel(\"Mole fraction (x)\")\n",
    "    plt.legend()\n",
    "    plt.show()"
   ]
  },
  {
   "cell_type": "code",
   "execution_count": null,
   "metadata": {},
   "outputs": [],
   "source": []
  }
 ],
 "metadata": {
  "kernelspec": {
   "display_name": "Python 3.10.6 ('bachelor_thesis')",
   "language": "python",
   "name": "python3"
  },
  "language_info": {
   "codemirror_mode": {
    "name": "ipython",
    "version": 3
   },
   "file_extension": ".py",
   "mimetype": "text/x-python",
   "name": "python",
   "nbconvert_exporter": "python",
   "pygments_lexer": "ipython3",
   "version": "3.10.6"
  },
  "orig_nbformat": 4,
  "vscode": {
   "interpreter": {
    "hash": "4d800a7388322946cdd07207b6808bdb5ed8c58c0ccf153b934e9575d56a2b54"
   }
  }
 },
 "nbformat": 4,
 "nbformat_minor": 2
}
