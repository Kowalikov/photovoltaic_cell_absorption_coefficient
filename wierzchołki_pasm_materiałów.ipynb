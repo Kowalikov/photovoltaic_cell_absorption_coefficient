{
 "cells": [
  {
   "cell_type": "markdown",
   "metadata": {},
   "source": [
    "# Wyznaczanie wierzchołków pasm materiałów na podłożu GaSb:"
   ]
  },
  {
   "cell_type": "markdown",
   "metadata": {},
   "source": [
    "Materiał: GaAlSb  \n",
    "Podłoże: GaSb"
   ]
  },
  {
   "cell_type": "code",
   "execution_count": 5,
   "metadata": {},
   "outputs": [],
   "source": [
    "material = 'GaAlSb'\n",
    "ground_material = 'GaSb'"
   ]
  },
  {
   "cell_type": "code",
   "execution_count": 23,
   "metadata": {},
   "outputs": [
    {
     "name": "stdout",
     "output_type": "stream",
     "text": [
      "Components:  ['Ga', 'Al', 'Sb']\n",
      "Material type: IIIA-VA\n"
     ]
    }
   ],
   "source": [
    "import re\n",
    "from mendeleev import element\n",
    "from collections import Counter\n",
    "\n",
    "def material_type_checker(material):\n",
    "    component_names = re.findall('[A-Z][^A-Z]*', material) \n",
    "    print(\"Components: \", component_names)\n",
    "\n",
    "    components = [element(c_name) for c_name in component_names]\n",
    "\n",
    "    group_counter = Counter([c.group.symbol for c in components])\n",
    "    material_type = list(group_counter.keys())\n",
    "    material_type = \"-\".join(material_type)\n",
    "    \n",
    "    return material_type\n",
    "\n",
    "material_type = material_type_checker(material)\n",
    "\n",
    "print(\"Material type:\", material_type)"
   ]
  },
  {
   "cell_type": "code",
   "execution_count": null,
   "metadata": {},
   "outputs": [],
   "source": []
  }
 ],
 "metadata": {
  "kernelspec": {
   "display_name": "Python 3.10.6 ('bachelor_thesis')",
   "language": "python",
   "name": "python3"
  },
  "language_info": {
   "codemirror_mode": {
    "name": "ipython",
    "version": 3
   },
   "file_extension": ".py",
   "mimetype": "text/x-python",
   "name": "python",
   "nbconvert_exporter": "python",
   "pygments_lexer": "ipython3",
   "version": "3.10.6"
  },
  "orig_nbformat": 4,
  "vscode": {
   "interpreter": {
    "hash": "4d800a7388322946cdd07207b6808bdb5ed8c58c0ccf153b934e9575d56a2b54"
   }
  }
 },
 "nbformat": 4,
 "nbformat_minor": 2
}
