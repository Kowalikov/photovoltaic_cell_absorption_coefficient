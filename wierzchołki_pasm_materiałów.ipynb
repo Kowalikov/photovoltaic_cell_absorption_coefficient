{
 "cells": [
  {
   "cell_type": "markdown",
   "metadata": {},
   "source": [
    "# Wyznaczanie wierzchołków pasm materiałów na podłożu GaSb:"
   ]
  },
  {
   "cell_type": "markdown",
   "metadata": {},
   "source": [
    "Materiał: GaAlSb  \n",
    "Podłoże: GaSb"
   ]
  },
  {
   "cell_type": "markdown",
   "metadata": {},
   "source": [
    "#### Imports:"
   ]
  },
  {
   "cell_type": "code",
   "execution_count": 32,
   "metadata": {},
   "outputs": [],
   "source": [
    "import os, re\n",
    "import numpy as np\n",
    "from mendeleev import element\n",
    "from collections import Counter\n",
    "\n",
    "from src.material_analysis import material_type_checker, binary_compounds_decomposition \n",
    "from src.utils import roman_to_int, param_reader"
   ]
  },
  {
   "cell_type": "markdown",
   "metadata": {},
   "source": [
    "### Load material:"
   ]
  },
  {
   "cell_type": "code",
   "execution_count": 3,
   "metadata": {},
   "outputs": [],
   "source": [
    "#material = 'GaAlGeSb'\n",
    "material = 'AlGaSb'\n",
    "ground_material = 'GaSb'"
   ]
  },
  {
   "cell_type": "code",
   "execution_count": 4,
   "metadata": {},
   "outputs": [
    {
     "name": "stdout",
     "output_type": "stream",
     "text": [
      "Components:  ['Al', 'Ga', 'Sb']\n"
     ]
    }
   ],
   "source": [
    "component_names = re.findall('[A-Z][^A-Z]*', material) \n",
    "print(\"Components: \", component_names)"
   ]
  },
  {
   "cell_type": "code",
   "execution_count": 5,
   "metadata": {},
   "outputs": [
    {
     "name": "stdout",
     "output_type": "stream",
     "text": [
      "Material type: IIIA_VA\n",
      "Material type extensive: IIIA_2_VA_1\n"
     ]
    }
   ],
   "source": [
    "material_type, material_type_extensive = material_type_checker(material)\n",
    "\n",
    "print(\"Material type:\", material_type)\n",
    "print(\"Material type extensive:\", material_type_extensive)"
   ]
  },
  {
   "cell_type": "code",
   "execution_count": 6,
   "metadata": {},
   "outputs": [
    {
     "data": {
      "text/plain": [
       "['AlSb', 'GaSb']"
      ]
     },
     "execution_count": 6,
     "metadata": {},
     "output_type": "execute_result"
    }
   ],
   "source": [
    "compounds = binary_compounds_decomposition(material)\n",
    "compounds"
   ]
  },
  {
   "cell_type": "markdown",
   "metadata": {},
   "source": [
    "## Energy band characteristics:"
   ]
  },
  {
   "cell_type": "markdown",
   "metadata": {},
   "source": [
    "### Band gaps in temperature of `300K` from mole fraction:"
   ]
  },
  {
   "cell_type": "markdown",
   "metadata": {},
   "source": [
    "Read band gaps in `T=0K`:"
   ]
  },
  {
   "cell_type": "code",
   "execution_count": 7,
   "metadata": {},
   "outputs": [],
   "source": [
    "def read_binary_compounds_param(components, params_file_path, param):\n",
    "    \"\"\"Reads parameter from files for given list of components. There need to be path provided (same for all components). Only parameter specified by the \"param\" will be read.\n",
    "\n",
    "    Args:\n",
    "        components (List[str]): List of the components names\n",
    "        params_file_path (str): path to parameter files\n",
    "        param (str): name of the parameter in the parameters files\n",
    "\n",
    "    Returns:\n",
    "        list: List of the parameter for each componenets\n",
    "    \"\"\"\n",
    "    read_params = []\n",
    "    for c in components:\n",
    "        with open(os.path.join(params_file_path, c+\".txt\")) as f:\n",
    "            lines = f.readlines()\n",
    "            for line in lines:\n",
    "                if line.split(\"=\")[0]==param:\n",
    "                    read_param_str = line.split(\"=\")[1].split(\" \")[0]\n",
    "                    #print(read_param_str)\n",
    "                    read_param_float = float(read_param_str)\n",
    "                    read_params.append(read_param_float)\n",
    "\n",
    "    return read_params"
   ]
  },
  {
   "cell_type": "code",
   "execution_count": 38,
   "metadata": {},
   "outputs": [],
   "source": [
    "params_file_path = os.path.join(\".\", \"materials\", \"binary_compounds\")\n",
    "\n",
    "def read_binary_compounds_band_gap(components, params_file_path):\n",
    "    # read band gaps in Gamma, L and X points in Brillouin zone:\n",
    "    points_names = ['gamma', 'x', 'l']\n",
    "    egs_0k = []\n",
    "    for point in points_names:\n",
    "        egs_0k.append(read_binary_compounds_param(components, params_file_path, f'Eg_{point}_0K'))\n",
    "    \n",
    "    egs_0k = np.asarray(egs_0k)        \n",
    "    \n",
    "    min_eg_ids = np.argmin(egs_0k, axis=0)\n",
    "    min_egs = [egs_0k[ind, i] for i, ind in enumerate(min_eg_ids)]\n",
    "    min_eg_points = [points_names[ind] for ind in min_eg_ids]\n",
    "    \n",
    "    alphas, betas = [], []\n",
    "    for compound, point in zip(compounds, points_names):\n",
    "        alphas.append(read_binary_compounds_param([compound], params_file_path, f'alpha_{point}')[0])\n",
    "        betas.append(read_binary_compounds_param([compound], params_file_path, f'beta_{point}')[0])\n",
    "    \n",
    "    # print(min_eg_points, min_egs)\n",
    "    # print(f'Alpha param. (Varshni param.):\\t', alphas)\n",
    "    # print(f'Beta param. (Varshni param.):\\t', betas)\n",
    "    \n",
    "    return min_egs, alphas, betas, min_eg_points\n",
    "    \n",
    "min_egs_0k, alphas, betas, min_eg_points = read_binary_compounds_band_gap(compounds, params_file_path)"
   ]
  },
  {
   "cell_type": "markdown",
   "metadata": {},
   "source": [
    "Calculate the band gaps in `T=300K`:"
   ]
  },
  {
   "cell_type": "code",
   "execution_count": 41,
   "metadata": {},
   "outputs": [
    {
     "data": {
      "text/plain": [
       "(['AlSb', 'GaSb'], [1.610090909090909, 0.703497461928934])"
      ]
     },
     "execution_count": 41,
     "metadata": {},
     "output_type": "execute_result"
    }
   ],
   "source": [
    "def calculating_bandgaps_from_varshni_relation(eg_0k, a, b, t=300):\n",
    "    eg_t = eg_0k-(a*t**2)/(t+b)\n",
    "    return eg_t \n",
    "    \n",
    "min_egs_300k = []\n",
    "for eg, a, b in zip(min_egs_0k, alphas, betas):\n",
    "    min_egs_300k.append(calculating_bandgaps_from_varshni_relation(eg, a, b, t=300))\n",
    "\n",
    "compounds, min_egs_300k"
   ]
  },
  {
   "cell_type": "markdown",
   "metadata": {},
   "source": [
    "Import simulation method:"
   ]
  },
  {
   "cell_type": "code",
   "execution_count": 16,
   "metadata": {},
   "outputs": [],
   "source": [
    "import importlib\n",
    "\n",
    "try:\n",
    "    libname = \".\".join([\"src\", \"simulations\", material_type])\n",
    "    simulation = importlib.import_module(libname)\n",
    "    simulation = importlib.reload(simulation)\n",
    "except ImportError:\n",
    "    simulation = None\n",
    "    print(f'Simulation method for \\'{material_type}\\' not implemented.')\n",
    "else:\n",
    "    globals()[libname] = simulation"
   ]
  },
  {
   "cell_type": "code",
   "execution_count": 17,
   "metadata": {},
   "outputs": [],
   "source": [
    "x, Eg_x = simulation.band_gap_from_mole_fraction(band_gaps, material_type_extensive, method=\"VCA\", points=3)"
   ]
  },
  {
   "cell_type": "code",
   "execution_count": 18,
   "metadata": {},
   "outputs": [
    {
     "data": {
      "image/png": "[encoded data removed]",
      "text/plain": [
       "<Figure size 800x550 with 1 Axes>"
      ]
     },
     "metadata": {},
     "output_type": "display_data"
    }
   ],
   "source": [
    "import matplotlib.pyplot as plt\n",
    "\n",
    "\n",
    "with plt.style.context(\"seaborn\"):\n",
    "    plt.plot(x, Eg_x, '-', label='Eg(T=300K) - band gap')\n",
    "    plt.title(r'Energy band characteristics from mole fraction in ${}_x{}_{a}{}$:'.format(*component_names, a=\"1-x\"))\n",
    "    plt.ylabel(\"Energy [eV]\")\n",
    "    plt.xlabel(\"Mole fraction (x)\")\n",
    "    plt.legend()\n",
    "    plt.show()"
   ]
  },
  {
   "cell_type": "code",
   "execution_count": null,
   "metadata": {},
   "outputs": [],
   "source": []
  }
 ],
 "metadata": {
  "kernelspec": {
   "display_name": "Python 3.10.6 ('bachelor_env')",
   "language": "python",
   "name": "python3"
  },
  "language_info": {
   "codemirror_mode": {
    "name": "ipython",
    "version": 3
   },
   "file_extension": ".py",
   "mimetype": "text/x-python",
   "name": "python",
   "nbconvert_exporter": "python",
   "pygments_lexer": "ipython3",
   "version": "3.10.6"
  },
  "orig_nbformat": 4,
  "vscode": {
   "interpreter": {
    "hash": "ad3ad5b3d1c8582dece179f4b36aecc7651957d353225cf0751cb7803f722215"
   }
  }
 },
 "nbformat": 4,
 "nbformat_minor": 2
}
