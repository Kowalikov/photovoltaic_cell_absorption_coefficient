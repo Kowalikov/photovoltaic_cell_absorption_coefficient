{
 "cells": [
  {
   "cell_type": "markdown",
   "metadata": {},
   "source": [
    "# Wyznaczanie przerw energetycznych związków budujących stopy po wzrosty na podłożu GaSb:"
   ]
  },
  {
   "cell_type": "markdown",
   "metadata": {},
   "source": [
    "Materiał: GaAlSb  \n",
    "Podłoże: GaSb"
   ]
  },
  {
   "cell_type": "markdown",
   "metadata": {},
   "source": [
    "#### Imports:"
   ]
  },
  {
   "cell_type": "code",
   "execution_count": 1,
   "metadata": {},
   "outputs": [],
   "source": [
    "import os, re\n",
    "import numpy as np\n",
    "from mendeleev import element\n",
    "from collections import Counter\n",
    "\n",
    "from src.material_analysis import material_type_checker, binary_compounds_decomposition \n",
    "from src.utils import roman_to_int\n",
    "from src.data_utils import read_binary_compounds_param, read_binary_compounds_band_gap"
   ]
  },
  {
   "cell_type": "markdown",
   "metadata": {},
   "source": [
    "### Load material:"
   ]
  },
  {
   "cell_type": "code",
   "execution_count": 2,
   "metadata": {},
   "outputs": [],
   "source": [
    "#material = 'GaAlGeSb'\n",
    "material = 'AlGaSb'\n",
    "ground_material = 'GaSb'"
   ]
  },
  {
   "cell_type": "code",
   "execution_count": 3,
   "metadata": {},
   "outputs": [
    {
     "name": "stdout",
     "output_type": "stream",
     "text": [
      "Components:  ['Al', 'Ga', 'Sb']\n"
     ]
    }
   ],
   "source": [
    "component_names = re.findall('[A-Z][^A-Z]*', material) \n",
    "print(\"Components: \", component_names)"
   ]
  },
  {
   "cell_type": "code",
   "execution_count": 4,
   "metadata": {},
   "outputs": [
    {
     "name": "stdout",
     "output_type": "stream",
     "text": [
      "Material type: IIIA_VA\n",
      "Material type extensive: IIIA_2_VA_1\n"
     ]
    }
   ],
   "source": [
    "material_type, material_type_extensive = material_type_checker(material)\n",
    "\n",
    "print(\"Material type:\", material_type)\n",
    "print(\"Material type extensive:\", material_type_extensive)"
   ]
  },
  {
   "cell_type": "code",
   "execution_count": 5,
   "metadata": {},
   "outputs": [
    {
     "data": {
      "text/plain": [
       "['AlSb', 'GaSb']"
      ]
     },
     "execution_count": 5,
     "metadata": {},
     "output_type": "execute_result"
    }
   ],
   "source": [
    "compounds = binary_compounds_decomposition(material)\n",
    "compounds"
   ]
  },
  {
   "cell_type": "markdown",
   "metadata": {},
   "source": [
    "## Energy band characteristics:"
   ]
  },
  {
   "cell_type": "markdown",
   "metadata": {},
   "source": [
    "### Band gaps in temperature of `300K` from mole fraction:"
   ]
  },
  {
   "cell_type": "markdown",
   "metadata": {},
   "source": [
    "Read band gaps in `T=0K`:"
   ]
  },
  {
   "cell_type": "code",
   "execution_count": 6,
   "metadata": {},
   "outputs": [],
   "source": [
    "params_file_path = os.path.join(\".\", \"materials\", \"binary_compounds\")\n",
    "    \n",
    "min_egs_0k, alphas, betas, min_eg_points = read_binary_compounds_band_gap(compounds, params_file_path)"
   ]
  },
  {
   "cell_type": "markdown",
   "metadata": {},
   "source": [
    "Calculate the band gaps in `T=300K`:"
   ]
  },
  {
   "cell_type": "code",
   "execution_count": 10,
   "metadata": {},
   "outputs": [
    {
     "data": {
      "text/plain": [
       "(['AlSb', 'GaSb'], [1.610090909090909, 0.703497461928934], ['x', 'gamma'])"
      ]
     },
     "execution_count": 10,
     "metadata": {},
     "output_type": "execute_result"
    }
   ],
   "source": [
    "def calculating_bandgaps_from_varshni_relation(eg_0k, a, b, t=300):\n",
    "    eg_t = eg_0k-(a*t**2)/(t+b)\n",
    "    return eg_t \n",
    "    \n",
    "min_egs_300k = []\n",
    "for eg, a, b in zip(min_egs_0k, alphas, betas):\n",
    "    min_egs_300k.append(calculating_bandgaps_from_varshni_relation(eg, a, b, t=300))\n",
    "\n",
    "compounds, min_egs_300k, min_eg_points"
   ]
  }
 ],
 "metadata": {
  "kernelspec": {
   "display_name": "Python 3.10.6 ('bachelor_env')",
   "language": "python",
   "name": "python3"
  },
  "language_info": {
   "codemirror_mode": {
    "name": "ipython",
    "version": 3
   },
   "file_extension": ".py",
   "mimetype": "text/x-python",
   "name": "python",
   "nbconvert_exporter": "python",
   "pygments_lexer": "ipython3",
   "version": "3.10.6"
  },
  "orig_nbformat": 4,
  "vscode": {
   "interpreter": {
    "hash": "ad3ad5b3d1c8582dece179f4b36aecc7651957d353225cf0751cb7803f722215"
   }
  }
 },
 "nbformat": 4,
 "nbformat_minor": 2
}
